{
 "cells": [
  {
   "cell_type": "markdown",
   "metadata": {},
   "source": [
    "对于只有观测变量的问题，直接根据样本值通过极大似然估计的方法求解分布的参数。\n",
    "\n",
    "但是对于含有隐变量的问题，则要通过EM算法来逼近分布的参数。"
   ]
  },
  {
   "cell_type": "markdown",
   "metadata": {},
   "source": [
    "## 1. EM算法\n",
    "\n",
    "输入：观测变量数据$Y$，隐变量数据$Z$，联合分布$P(Y,Z|\\theta)$，条件分布$P(Z|Y,\\theta)$\n",
    "\n",
    "输出：模型参数$\\theta$\n",
    "\n",
    "举个例子，上面的各个变量和概率，用这个抛硬币的例子来说明。\n",
    "\n",
    "假设有3枚硬币，分别记做A, B, C。这些硬币出现正面的概率分别是$\\pi$，$p$和$q$。进行以下实验：先抛硬币A，根据结果来选择硬币B或是C。假如A抛得正面，则选择硬币B，否则选择硬币C。根据选择的硬币进行抛掷，如果为正面，则记为1，反面记为0。独立重复n次实验。\n",
    "\n",
    "假设只能看到第二次抛硬币（即B或C）的结果，而不能观测抛硬币的过程（选B还是C）。估计n次实验中，正面的概率。\n",
    "$$\n",
    "P(y|\\theta) = \\sum_{z}{P(y,z|\\theta)}=\\sum_{z}{P(z|\\theta)P(y|z,\\theta)}\n",
    "$$\n",
    "\n",
    "$P(y|\\theta)$表示给定分布的参数$\\theta$，硬币出现向上的概率。\n",
    "\n",
    "$\\sum_{z}{P(y,z|\\theta)}$：${P(y,z|\\theta)}$是$y$和$z$的联合概率。表示给定分布的参数$\\theta$，同时出现隐变量$z$和观测变量$y$的概率。（例子中表示具体选择了某一个硬币，同时利用这个硬币进行抛掷，得到正面朝上的概率），对所有的情况对应的概率求和\n",
    "\n",
    "$\\sum_{z}{P(z|\\theta)P(y|z,\\theta)}$：给定分布的参数$\\theta$，出现隐变量$z$的概率为$P(z|\\theta)$，以这个概率为权重，对$P(y|z,\\theta)$进行加权，$P(y|z,\\theta)$的含义是给定分布的参数$\\theta$和隐变量$z$具体是什么，此时硬币向上的概率是多少。\n",
    "\n",
    "$$\n",
    "P(y|\\theta) = \\pi\n",
    "$$"
   ]
  },
  {
   "cell_type": "markdown",
   "metadata": {},
   "source": []
  },
  {
   "cell_type": "code",
   "execution_count": null,
   "metadata": {
    "collapsed": true
   },
   "outputs": [],
   "source": []
  }
 ],
 "metadata": {
  "kernelspec": {
   "display_name": "Python 2",
   "language": "python",
   "name": "python2"
  },
  "language_info": {
   "codemirror_mode": {
    "name": "ipython",
    "version": 2
   },
   "file_extension": ".py",
   "mimetype": "text/x-python",
   "name": "python",
   "nbconvert_exporter": "python",
   "pygments_lexer": "ipython2",
   "version": "2.7.14"
  }
 },
 "nbformat": 4,
 "nbformat_minor": 2
}
