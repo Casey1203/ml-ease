{
 "cells": [
  {
   "cell_type": "markdown",
   "metadata": {},
   "source": [
    "本文介绍Boosting算法及一些代表算法。准确来说，Boosting算法更多的是一种思想。例如一个分类任务，如果训练一个分类器可以做到60%的正确率。那么同时训练多个分类器，利用投票的方法来对数据集进行分类，经验上可以获得更高的正确率。这就是Boosting的思想。"
   ]
  },
  {
   "cell_type": "markdown",
   "metadata": {},
   "source": [
    "## AdaBoost算法\n",
    "给定一组训练数据集\n",
    "\n",
    "\\begin{equation}\n",
    "T=\\{(\\textbf{x}^{(1)},y^{(1)}),(\\textbf{x}^{(2)},y^{(2)}),\\cdots, (\\textbf{x}^{(N)}, y^{(N)})\\}\n",
    "\\end{equation}\n",
    "\n",
    "该数据集包含N个样本点。每个样本点的$\\textbf{x}$加粗显示，表示这是一个向量，$\\textbf{x}\\in \\mathbb{R}^{n}$，当然如果n=1，则$\\textbf{x}$是一个标量。\n",
    "\n",
    "在$\\textbf{x}^{(i)}=(x^{(i)}_1,x^{(i)}_2,\\cdots, x^{(i)}_n)$中的每一个维度，表示该样本点的一个特征，样本集中的每个样本点有n个维度或特征。\n",
    "\n",
    "$y^{(i)}$表示第i个样本点的类别，$y\\in\\{+1, -1\\}$，当$y^{(i)}=1$，则表示$\\textbf{x}^{(i)}$是正例。当$y^{(i)}=-1$，则表示$\\textbf{x}^{(i)}$是负例。\n",
    "\n",
    "Adaboost算法从数据集中学习一系列弱分类器或基本分类器，并且线性组成一个强分类器。"
   ]
  },
  {
   "cell_type": "code",
   "execution_count": null,
   "metadata": {
    "collapsed": true
   },
   "outputs": [],
   "source": []
  }
 ],
 "metadata": {
  "kernelspec": {
   "display_name": "Python 2",
   "language": "python",
   "name": "python2"
  },
  "language_info": {
   "codemirror_mode": {
    "name": "ipython",
    "version": 2
   },
   "file_extension": ".py",
   "mimetype": "text/x-python",
   "name": "python",
   "nbconvert_exporter": "python",
   "pygments_lexer": "ipython2",
   "version": "2.7.14"
  }
 },
 "nbformat": 4,
 "nbformat_minor": 2
}
