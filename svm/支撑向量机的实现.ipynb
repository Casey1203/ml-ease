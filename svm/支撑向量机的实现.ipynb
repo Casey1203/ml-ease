{
 "cells": [
  {
   "cell_type": "markdown",
   "metadata": {},
   "source": [
    "原本打算把原理和实现写在一个notebook中，但是由于原理部分介绍的比较详细，文章比较长。不仅看起来疲劳，连浏览器渲染公式都很耗时，所以在本文中去实现SVM模型。原理部分请参考另外一个notebook《支撑向量机的原理.ipynb》\n",
    "\n",
    "本文主要参考的资料是《机器学习实战》的支撑向量机一章。"
   ]
  },
  {
   "cell_type": "code",
   "execution_count": 1,
   "metadata": {
    "collapsed": true
   },
   "outputs": [],
   "source": [
    "# 引入一些必要的工具包\n",
    "import numpy as np\n",
    "import pandas as pd"
   ]
  },
  {
   "cell_type": "markdown",
   "metadata": {},
   "source": [
    "## SMO算法的实现\n",
    "在《支撑向量机的原理.ipynb》一文中，提到求解对偶问题中的拉格朗日乘子$\\alpha$，是利用SMO算法来有效的求解凸二次规划问题。这是SVM模型中需要解决的一个关键环节，所以先介绍这个部分。\n",
    "\n",
    "SMO算法是一个启发式算法，需要两个循环来逐步的求解凸二次规划问题。逐步体现在每次选择调整的变量不是所有的变量，而是有选择的调整部分的变量。这样的做法得到的解，理论上是接近一次性调整所有变量的方法得到的解。\n",
    "\n",
    "以下代码来自《机器学习实战》"
   ]
  },
  {
   "cell_type": "code",
   "execution_count": null,
   "metadata": {
    "collapsed": true
   },
   "outputs": [],
   "source": [
    "def smooSimple(dataMatIn, clasLabels, C, toler, maxIter):\n",
    "    # C: 对间隔松弛现象的惩罚系数\n",
    "    # toler: 精度\n",
    "    # maxIter: 循环次数\n",
    "    dataMatrix = np.mat(dataMatIn)\n",
    "    labelMat = np.mat(clasLabels).transpose() # 按照列向量排列\n",
    "    b = 0\n",
    "    m, n = np.shape(dataMatrix) # m: 数据集大小，n: 数据集的维度\n",
    "    alphas = np.mat(np.zeros((m, 1))) # 初始化拉格朗日乘子alpha\n",
    "    iteration = 0\n",
    "    while (iteration < maxIter):\n",
    "        alphaPairsChanged = 0\n",
    "        for i in xrange(m): # 在数据集\n",
    "            np.multiply(alphas, labelMat).T * (dataMatrix * dataMatrix[i, :].T) + b\n",
    "    \n",
    "    "
   ]
  }
 ],
 "metadata": {
  "kernelspec": {
   "display_name": "Python 2",
   "language": "python",
   "name": "python2"
  },
  "language_info": {
   "codemirror_mode": {
    "name": "ipython",
    "version": 2
   },
   "file_extension": ".py",
   "mimetype": "text/x-python",
   "name": "python",
   "nbconvert_exporter": "python",
   "pygments_lexer": "ipython2",
   "version": "2.7.14"
  }
 },
 "nbformat": 4,
 "nbformat_minor": 2
}
